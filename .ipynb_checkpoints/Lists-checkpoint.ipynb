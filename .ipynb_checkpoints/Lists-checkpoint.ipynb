{
 "cells": [
  {
   "cell_type": "markdown",
   "id": "eb2969ab",
   "metadata": {},
   "source": [
    "## List Creation"
   ]
  },
  {
   "cell_type": "code",
   "execution_count": 22,
   "id": "7527d844",
   "metadata": {},
   "outputs": [],
   "source": [
    "\n",
    "\n",
    "emptyList = []\n",
    "\n",
    "lst1 = [1,2,3] # list of intergers\n",
    "\n",
    "lst2 = [[1,2], [3,4], [5,6]] # list of lists\n",
    "\n",
    "lst3 = [1, 4.5, \"Alex\"] # list of different datatypes\n",
    "\n",
    "lst4 = ['one', 'two', 'three'] # list of strings"
   ]
  },
  {
   "cell_type": "code",
   "execution_count": 19,
   "id": "1d7137f1",
   "metadata": {},
   "outputs": [
    {
     "name": "stdout",
     "output_type": "stream",
     "text": [
      "3\n"
     ]
    }
   ],
   "source": [
    "# list length \n",
    "print(len(lst2))"
   ]
  },
  {
   "cell_type": "markdown",
   "id": "c078ff77",
   "metadata": {},
   "source": [
    "## list append"
   ]
  },
  {
   "cell_type": "code",
   "execution_count": 20,
   "id": "301e87c2",
   "metadata": {},
   "outputs": [
    {
     "name": "stdout",
     "output_type": "stream",
     "text": [
      "['one', 'two', 'three', 'four']\n"
     ]
    }
   ],
   "source": [
    "lst4.append('four') # append adds the item at the end of the list\n",
    "print(lst4)"
   ]
  },
  {
   "cell_type": "markdown",
   "id": "588d12a1",
   "metadata": {},
   "source": [
    "## list insert"
   ]
  },
  {
   "cell_type": "code",
   "execution_count": 23,
   "id": "438d7a22",
   "metadata": {},
   "outputs": [
    {
     "name": "stdout",
     "output_type": "stream",
     "text": [
      "['zero', 1, 2, 3]\n"
     ]
    }
   ],
   "source": [
    "lst1.insert(0, 'zero') # insert 'four' at location index 4\n",
    "print(lst1)"
   ]
  },
  {
   "cell_type": "markdown",
   "id": "5411d917",
   "metadata": {},
   "source": [
    "## list remove\n"
   ]
  },
  {
   "cell_type": "code",
   "execution_count": 25,
   "id": "76acadb3",
   "metadata": {},
   "outputs": [
    {
     "name": "stdout",
     "output_type": "stream",
     "text": [
      "['one', 'three', 'four', 'two']\n"
     ]
    }
   ],
   "source": [
    "\n",
    "lst = ['one', 'two', 'three', 'four' ,'two']\n",
    "lst.remove('two') # removes the first occurence of 'two' in a given list\n",
    "print(lst)"
   ]
  },
  {
   "cell_type": "markdown",
   "id": "9adb2853",
   "metadata": {},
   "source": [
    "## list append and extend"
   ]
  },
  {
   "cell_type": "code",
   "execution_count": 39,
   "id": "3817a06e",
   "metadata": {},
   "outputs": [
    {
     "name": "stdout",
     "output_type": "stream",
     "text": [
      "['one', 'two', 'three', 'four', ['five', 'six']]\n",
      "\n",
      "\n"
     ]
    }
   ],
   "source": [
    "\n",
    "\n",
    "lst = ['one', 'two', 'three', 'four']\n",
    "lst2 = ['five' ,'six']\n",
    "lst.append(lst2) # creates a list witin a list\n",
    "print(lst)\n",
    "print('\\n')\n"
   ]
  },
  {
   "cell_type": "markdown",
   "id": "044aaafa",
   "metadata": {},
   "source": [
    "## list extend"
   ]
  },
  {
   "cell_type": "code",
   "execution_count": 31,
   "id": "9b04d480",
   "metadata": {},
   "outputs": [
    {
     "name": "stdout",
     "output_type": "stream",
     "text": [
      "['one', 'two', 'three', 'four', 'five', 'six']\n"
     ]
    }
   ],
   "source": [
    "# list extend\n",
    "\n",
    "lst = ['one', 'two', 'three', 'four']\n",
    "lst2 = ['five' ,'six']\n",
    "\n",
    "lst.extend(lst2)\n",
    "print(lst)"
   ]
  },
  {
   "cell_type": "markdown",
   "id": "c16fc77c",
   "metadata": {},
   "source": [
    "## list delete and pop"
   ]
  },
  {
   "cell_type": "code",
   "execution_count": 33,
   "id": "591970c1",
   "metadata": {},
   "outputs": [
    {
     "name": "stdout",
     "output_type": "stream",
     "text": [
      "['one', 'two', 'four', 'five', 'six']\n",
      "five\n",
      "['one', 'two', 'four', 'six']\n"
     ]
    }
   ],
   "source": [
    "lst = ['one', 'two', 'three', 'four', 'five' ,'six']\n",
    "\n",
    "del(lst[2]) # delete item based on index position\n",
    "print(lst)\n",
    "\n",
    "a = lst.pop(3) # we can assign a variable to the popped element\n",
    "print(a)\n",
    "\n",
    "print(lst)"
   ]
  },
  {
   "cell_type": "markdown",
   "id": "8b6988c4",
   "metadata": {},
   "source": [
    "## List related keyword in Python"
   ]
  },
  {
   "cell_type": "code",
   "execution_count": 37,
   "id": "5e34a1a6",
   "metadata": {},
   "outputs": [
    {
     "name": "stdout",
     "output_type": "stream",
     "text": [
      "3\n",
      "7\n"
     ]
    }
   ],
   "source": [
    "lst = ['one', 'two', 'three', 'four', 'five' ,'six']\n",
    "\n",
    "if 'three' in lst:\n",
    "    print(3)\n",
    "    \n",
    "if 'seven' not in lst:\n",
    "    print(7)"
   ]
  },
  {
   "cell_type": "markdown",
   "id": "39932b21",
   "metadata": {},
   "source": [
    "## list reverse\n",
    "\n"
   ]
  },
  {
   "cell_type": "code",
   "execution_count": 41,
   "id": "415eb6cf",
   "metadata": {},
   "outputs": [
    {
     "name": "stdout",
     "output_type": "stream",
     "text": [
      "['six', 'five', 'four', 'three', 'two', 'one']\n"
     ]
    }
   ],
   "source": [
    "lst = ['one', 'two', 'three', 'four', 'five' ,'six']\n",
    "lst.reverse()\n",
    "print(lst)"
   ]
  },
  {
   "cell_type": "markdown",
   "id": "fcecde60",
   "metadata": {},
   "source": [
    "## List Sorting"
   ]
  },
  {
   "cell_type": "code",
   "execution_count": 44,
   "id": "904a3e1a",
   "metadata": {},
   "outputs": [
    {
     "name": "stdout",
     "output_type": "stream",
     "text": [
      "[1, 2, 4, 6, 9]\n",
      "[4, 6, 2, 9, 1]\n"
     ]
    }
   ],
   "source": [
    "# original list remains unchanged\n",
    "nos = [4,6,2,9,1]\n",
    "sorted_lst = sorted(nos)\n",
    "print(sorted_lst)\n",
    "print(nos)"
   ]
  },
  {
   "cell_type": "code",
   "execution_count": 48,
   "id": "12f52bfd",
   "metadata": {},
   "outputs": [
    {
     "name": "stdout",
     "output_type": "stream",
     "text": [
      "Sorted list : [9, 8, 7, 6, 3, 2]\n",
      "Original list : [2, 6, 7, 8, 9, 3]\n"
     ]
    }
   ],
   "source": [
    "# print list in reverse sorted order\n",
    "\n",
    "nos = [2,6,7,8,9,3]\n",
    "\n",
    "srt_lst = sorted(nos, reverse = True)\n",
    "print(\"Sorted list :\",srt_lst)\n",
    "print(\"Original list :\", nos)"
   ]
  },
  {
   "cell_type": "code",
   "execution_count": 49,
   "id": "af938f5c",
   "metadata": {},
   "outputs": [
    {
     "name": "stdout",
     "output_type": "stream",
     "text": [
      "[2, 3, 6, 7, 8, 9]\n"
     ]
    }
   ],
   "source": [
    "# sort the list and store in itself\n",
    "\n",
    "nos = [2,6,7,8,9,3]\n",
    "nos.sort()\n",
    "print(nos)"
   ]
  },
  {
   "cell_type": "code",
   "execution_count": 50,
   "id": "c30cc929",
   "metadata": {},
   "outputs": [
    {
     "ename": "TypeError",
     "evalue": "'<' not supported between instances of 'str' and 'int'",
     "output_type": "error",
     "traceback": [
      "\u001b[0;31m---------------------------------------------------------------------------\u001b[0m",
      "\u001b[0;31mTypeError\u001b[0m                                 Traceback (most recent call last)",
      "\u001b[0;32m<ipython-input-50-19550d9cee29>\u001b[0m in \u001b[0;36m<module>\u001b[0;34m\u001b[0m\n\u001b[1;32m      2\u001b[0m \u001b[0;34m\u001b[0m\u001b[0m\n\u001b[1;32m      3\u001b[0m \u001b[0mlst\u001b[0m \u001b[0;34m=\u001b[0m \u001b[0;34m[\u001b[0m\u001b[0;36m1\u001b[0m\u001b[0;34m,\u001b[0m \u001b[0;36m9\u001b[0m\u001b[0;34m,\u001b[0m \u001b[0;34m\"Three\"\u001b[0m\u001b[0;34m,\u001b[0m \u001b[0;36m4\u001b[0m\u001b[0;34m]\u001b[0m\u001b[0;34m\u001b[0m\u001b[0;34m\u001b[0m\u001b[0m\n\u001b[0;32m----> 4\u001b[0;31m \u001b[0mprint\u001b[0m\u001b[0;34m(\u001b[0m\u001b[0mlst\u001b[0m\u001b[0;34m.\u001b[0m\u001b[0msort\u001b[0m\u001b[0;34m(\u001b[0m\u001b[0;34m)\u001b[0m\u001b[0;34m)\u001b[0m\u001b[0;34m\u001b[0m\u001b[0;34m\u001b[0m\u001b[0m\n\u001b[0m",
      "\u001b[0;31mTypeError\u001b[0m: '<' not supported between instances of 'str' and 'int'"
     ]
    }
   ],
   "source": [
    "# sorting with different datatypes\n",
    "\n",
    "lst = [1, 9, \"Three\", 4]\n",
    "print(lst.sort())"
   ]
  },
  {
   "cell_type": "markdown",
   "id": "9845e69c",
   "metadata": {},
   "source": [
    "## List having multiple References"
   ]
  },
  {
   "cell_type": "code",
   "execution_count": 52,
   "id": "97bf92de",
   "metadata": {},
   "outputs": [
    {
     "name": "stdout",
     "output_type": "stream",
     "text": [
      "[1, 2, 3, 4, 5, 6]\n"
     ]
    }
   ],
   "source": [
    "lst = [1, 2, 3, 4, 5]\n",
    "abc = lst\n",
    "abc.append(6)\n",
    "\n",
    "# both abc and lst points to the same memory location where the list is stored\n",
    "\n",
    "# print original list\n",
    "print(lst)"
   ]
  },
  {
   "cell_type": "markdown",
   "id": "d625d2b7",
   "metadata": {},
   "source": [
    "## String split to create a list"
   ]
  },
  {
   "cell_type": "code",
   "execution_count": 53,
   "id": "f87520fd",
   "metadata": {},
   "outputs": [
    {
     "name": "stdout",
     "output_type": "stream",
     "text": [
      "['one', 'nine', 'nine', 'eight']\n"
     ]
    }
   ],
   "source": [
    "DOB = 'one,nine,nine,eight'\n",
    "lst_DOB = DOB.split(',')\n",
    "print(lst_DOB)"
   ]
  },
  {
   "cell_type": "code",
   "execution_count": 54,
   "id": "dc7992f7",
   "metadata": {},
   "outputs": [
    {
     "name": "stdout",
     "output_type": "stream",
     "text": [
      "['One', 'Nine', 'Nine', 'Eightr']\n"
     ]
    }
   ],
   "source": [
    "DOB = 'One Nine Nine Eightr'\n",
    "lst_DOB = DOB.split(' ') # default split is white-character: space or tab\n",
    "print(lst_DOB)"
   ]
  },
  {
   "cell_type": "markdown",
   "id": "7f10812a",
   "metadata": {},
   "source": [
    "## List Indexing"
   ]
  },
  {
   "cell_type": "code",
   "execution_count": 56,
   "id": "48e34083",
   "metadata": {},
   "outputs": [
    {
     "name": "stdout",
     "output_type": "stream",
     "text": [
      "3\n",
      "4\n"
     ]
    }
   ],
   "source": [
    "lst = [1,2,3,4]\n",
    "print(lst[2])\n",
    "\n",
    "# printing the last item\n",
    "\n",
    "print(lst[-1])"
   ]
  },
  {
   "cell_type": "markdown",
   "id": "85290c90",
   "metadata": {},
   "source": [
    "## List Slicing"
   ]
  },
  {
   "cell_type": "code",
   "execution_count": null,
   "id": "d389e207",
   "metadata": {},
   "outputs": [],
   "source": [
    "# syntax  : lst[start:end:step_size]"
   ]
  },
  {
   "cell_type": "code",
   "execution_count": 57,
   "id": "0e8952e9",
   "metadata": {},
   "outputs": [
    {
     "name": "stdout",
     "output_type": "stream",
     "text": [
      "[20, 40, 60, 80]\n"
     ]
    }
   ],
   "source": [
    "lst = [10, 20, 30, 40, 50, 60, 70, 80]\n",
    "print(lst[1::2])\n"
   ]
  },
  {
   "cell_type": "markdown",
   "id": "b37bfd23",
   "metadata": {},
   "source": [
    "## List Extend using \"+\""
   ]
  },
  {
   "cell_type": "code",
   "execution_count": 58,
   "id": "fc987f3d",
   "metadata": {},
   "outputs": [
    {
     "name": "stdout",
     "output_type": "stream",
     "text": [
      "['one', 'two', 'three', 1, 2, 3]\n"
     ]
    }
   ],
   "source": [
    "lst1 = ['one', 'two', 'three']\n",
    "lst2 = [1,2,3]\n",
    "print(lst1 + lst2)"
   ]
  },
  {
   "cell_type": "markdown",
   "id": "2d3fa3ad",
   "metadata": {},
   "source": [
    "## List Count"
   ]
  },
  {
   "cell_type": "code",
   "execution_count": 59,
   "id": "7819832e",
   "metadata": {},
   "outputs": [
    {
     "name": "stdout",
     "output_type": "stream",
     "text": [
      "5\n"
     ]
    }
   ],
   "source": [
    "nos = [1,2,3,7,3,3,3,3,8]\n",
    "\n",
    "#frequency of 3 in the list\n",
    "print(nos.count(3))"
   ]
  },
  {
   "cell_type": "markdown",
   "id": "e6cfa27b",
   "metadata": {},
   "source": [
    "## List Looping"
   ]
  },
  {
   "cell_type": "code",
   "execution_count": 60,
   "id": "9d79101b",
   "metadata": {},
   "outputs": [
    {
     "name": "stdout",
     "output_type": "stream",
     "text": [
      "one\n",
      "two\n",
      "three\n",
      "four\n"
     ]
    }
   ],
   "source": [
    "lst = ['one', 'two', 'three', 'four']\n",
    "\n",
    "for ele in lst:\n",
    "    print(ele)"
   ]
  },
  {
   "cell_type": "code",
   "execution_count": 1,
   "id": "d1b65d8d",
   "metadata": {},
   "outputs": [
    {
     "name": "stdout",
     "output_type": "stream",
     "text": [
      "[[1, 5, 9], [2, 6, 10], [3, 7, 11], [4, 8, 12]]\n"
     ]
    }
   ],
   "source": [
    "# Matrix transpose without using list comprehension\n",
    "\n",
    "\n",
    "matrix = [\n",
    "    [1,2,3,4],\n",
    "    [5,6,7,8],\n",
    "    [9,10,11,12]\n",
    "]\n",
    "\n",
    "transposed = []\n",
    "\n",
    "for i in range(4):\n",
    "    lst = []\n",
    "    for row in matrix:\n",
    "        lst.append(row[i])\n",
    "    transposed.append(lst)\n",
    "    \n",
    "print(transposed)\n",
    "        "
   ]
  },
  {
   "cell_type": "code",
   "execution_count": 2,
   "id": "aa06da29",
   "metadata": {},
   "outputs": [
    {
     "name": "stdout",
     "output_type": "stream",
     "text": [
      "[[1, 5, 9], [2, 6, 10], [3, 7, 11], [4, 8, 12]]\n"
     ]
    }
   ],
   "source": [
    "# Matrix transpose using list comprehension\n",
    "\n",
    "\n",
    "transposed = [[row[i] for row in matrix] for i in range(4)]\n",
    "print(transposed)"
   ]
  },
  {
   "cell_type": "code",
   "execution_count": null,
   "id": "c82e2b27",
   "metadata": {},
   "outputs": [],
   "source": []
  }
 ],
 "metadata": {
  "kernelspec": {
   "display_name": "Python 3",
   "language": "python",
   "name": "python3"
  },
  "language_info": {
   "codemirror_mode": {
    "name": "ipython",
    "version": 3
   },
   "file_extension": ".py",
   "mimetype": "text/x-python",
   "name": "python",
   "nbconvert_exporter": "python",
   "pygments_lexer": "ipython3",
   "version": "3.8.10"
  }
 },
 "nbformat": 4,
 "nbformat_minor": 5
}
