{
 "cells": [
  {
   "cell_type": "markdown",
   "id": "f3bdcf9e",
   "metadata": {},
   "source": [
    "Tuple Creation"
   ]
  },
  {
   "cell_type": "code",
   "execution_count": 2,
   "id": "0f18cce2",
   "metadata": {},
   "outputs": [
    {
     "name": "stdout",
     "output_type": "stream",
     "text": [
      "(1, 2, 3, 4, 5)\n",
      "(1, 'raju', 25.5, 'xyz')\n",
      "(1, (11, 22, 33), [1, 'raju', 25.5, 'xyz'], 'ABC')\n"
     ]
    }
   ],
   "source": [
    "# empty tuple\n",
    "\n",
    "t = ()\n",
    "\n",
    "# tuple having intergers \n",
    "\n",
    "t = (1,2,3,4,5)\n",
    "print(t)\n",
    "\n",
    "# tuple with mixed datatypes\n",
    "\n",
    "t = (1, 'raju', 25.5, 'xyz')\n",
    "print(t)\n",
    "\n",
    "# nested tuple\n",
    "\n",
    "t = (1, (11,22,33), [1, 'raju', 25.5, 'xyz'], 'ABC')\n",
    "print(t)"
   ]
  },
  {
   "cell_type": "code",
   "execution_count": 6,
   "id": "6efe569d",
   "metadata": {},
   "outputs": [
    {
     "data": {
      "text/plain": [
       "str"
      ]
     },
     "execution_count": 6,
     "metadata": {},
     "output_type": "execute_result"
    }
   ],
   "source": [
    "# only parenthesis is not enough\n",
    "# if there is only one element then a comma is needed at the end \n",
    "\n",
    "t = ('Python')\n",
    "type(t)\n",
    "\n"
   ]
  },
  {
   "cell_type": "code",
   "execution_count": 7,
   "id": "ee17514a",
   "metadata": {},
   "outputs": [
    {
     "data": {
      "text/plain": [
       "tuple"
      ]
     },
     "execution_count": 7,
     "metadata": {},
     "output_type": "execute_result"
    }
   ],
   "source": [
    "t = ('Python',) # t = 'satish',\n",
    "type(t)"
   ]
  },
  {
   "cell_type": "code",
   "execution_count": 4,
   "id": "cb8cca0b",
   "metadata": {},
   "outputs": [
    {
     "data": {
      "text/plain": [
       "tuple"
      ]
     },
     "execution_count": 4,
     "metadata": {},
     "output_type": "execute_result"
    }
   ],
   "source": [
    "t = ('Python', 'SQL')\n",
    "type(t)"
   ]
  },
  {
   "cell_type": "markdown",
   "id": "3810c4c7",
   "metadata": {},
   "source": [
    "Accessing Elements in Tuple"
   ]
  },
  {
   "cell_type": "code",
   "execution_count": 9,
   "id": "99b428ae",
   "metadata": {},
   "outputs": [
    {
     "name": "stdout",
     "output_type": "stream",
     "text": [
      "ef\n",
      "xyz\n"
     ]
    }
   ],
   "source": [
    "t = ('ab', 'cd', 'ef', 'xyz')\n",
    "\n",
    "print(t[2])\n",
    "print(t[-1]) # using negative index"
   ]
  },
  {
   "cell_type": "code",
   "execution_count": 11,
   "id": "dad61680",
   "metadata": {},
   "outputs": [
    {
     "name": "stdout",
     "output_type": "stream",
     "text": [
      "pqr\n",
      "('xyz', 'pqr', 'abc')\n"
     ]
    }
   ],
   "source": [
    "t = ('ab', 'cd', 'ef', ('xyz', 'pqr', 'abc'))\n",
    "print(t[3][1])\n",
    "print(t[-1])"
   ]
  },
  {
   "cell_type": "code",
   "execution_count": 13,
   "id": "abe0f551",
   "metadata": {},
   "outputs": [
    {
     "name": "stdout",
     "output_type": "stream",
     "text": [
      "(4, 6, 8)\n",
      "(2, 4, 6, 8, 10)\n"
     ]
    }
   ],
   "source": [
    "# slicing\n",
    "\n",
    "t = (2, 4, 6, 8, 10)\n",
    "\n",
    "print(t[1:4])\n",
    "\n",
    "print(t[:]) # print elements from starting to end"
   ]
  },
  {
   "cell_type": "code",
   "execution_count": 14,
   "id": "b8dea161",
   "metadata": {},
   "outputs": [
    {
     "name": "stdout",
     "output_type": "stream",
     "text": [
      "(2, 4, 6, [8, 'changed', 12])\n"
     ]
    }
   ],
   "source": [
    "# Changing elements of a list inside a tuple does not gives error\n",
    "\n",
    "t = (2, 4, 6, [8, 10, 12])\n",
    "\n",
    "t[3][1] = 'changed'\n",
    "\n",
    "print(t)"
   ]
  },
  {
   "cell_type": "code",
   "execution_count": 15,
   "id": "adf9dc86",
   "metadata": {},
   "outputs": [
    {
     "name": "stdout",
     "output_type": "stream",
     "text": [
      "(1, 3, 5, 7, 2, 4, 6, 8)\n"
     ]
    }
   ],
   "source": [
    "# Concatinating tuples\n",
    "\n",
    "t = (1, 3, 5, 7) + (2, 4, 6, 8)\n",
    "print(t)"
   ]
  },
  {
   "cell_type": "code",
   "execution_count": 16,
   "id": "a8022ff6",
   "metadata": {},
   "outputs": [
    {
     "name": "stdout",
     "output_type": "stream",
     "text": [
      "('Python', 'Python', 'Python')\n"
     ]
    }
   ],
   "source": [
    "t = (('Python', )*3)\n",
    "print(t)"
   ]
  },
  {
   "cell_type": "code",
   "execution_count": 17,
   "id": "2688f8fc",
   "metadata": {},
   "outputs": [],
   "source": [
    "# removal of a single item from tuple is not possible because of immutability.\n",
    "t = (1, 3, 5, 7, 2, 4, 6, 8)\n",
    "\n",
    "del t"
   ]
  },
  {
   "cell_type": "code",
   "execution_count": 20,
   "id": "7a6f1e76",
   "metadata": {},
   "outputs": [
    {
     "data": {
      "text/plain": [
       "2"
      ]
     },
     "execution_count": 20,
     "metadata": {},
     "output_type": "execute_result"
    }
   ],
   "source": [
    "# tuple count \n",
    "\n",
    "t = (1,4,6,1,5,1,5,6)\n",
    "t.count(1)\n",
    "\n",
    "# tuple index\n",
    "\n",
    "t = (1,4,6,1,5,1,5,6) # returns the index of the first occurence of the searched element\n",
    "t.index(6)"
   ]
  },
  {
   "cell_type": "code",
   "execution_count": 21,
   "id": "13ef3a3e",
   "metadata": {},
   "outputs": [
    {
     "name": "stdout",
     "output_type": "stream",
     "text": [
      "False\n",
      "True\n"
     ]
    }
   ],
   "source": [
    "# Tuple Membership\n",
    "#in   and   not in   can be used\n",
    "\n",
    "t = (2, 4, 6, 8, 10)\n",
    "\n",
    "print(1 in t)\n",
    "print(2 in t)"
   ]
  },
  {
   "cell_type": "code",
   "execution_count": 3,
   "id": "4f5d5fff",
   "metadata": {},
   "outputs": [
    {
     "name": "stdout",
     "output_type": "stream",
     "text": [
      "<class 'list'>\n",
      "Sorted tuple : [2, 4, 6, 8, 10]\n",
      "10\n",
      "2\n",
      "30\n"
     ]
    }
   ],
   "source": [
    "# Built in Functions\n",
    "\n",
    "t = (2, 6, 8, 4, 10)\n",
    "\n",
    "\n",
    "sorted_tuple = sorted(t)\n",
    "print(type(sorted_tuple))\n",
    "print(\"Sorted tuple :\", sorted_tuple)\n",
    "\n",
    "print(max(t))\n",
    "print(min(t))\n",
    "print(sum(t))"
   ]
  },
  {
   "cell_type": "code",
   "execution_count": 2,
   "id": "caec8ac0",
   "metadata": {},
   "outputs": [
    {
     "ename": "AttributeError",
     "evalue": "'tuple' object has no attribute 'sort'",
     "output_type": "error",
     "traceback": [
      "\u001b[0;31m---------------------------------------------------------------------------\u001b[0m",
      "\u001b[0;31mAttributeError\u001b[0m                            Traceback (most recent call last)",
      "\u001b[0;32m<ipython-input-2-42b32fd31977>\u001b[0m in \u001b[0;36m<module>\u001b[0;34m\u001b[0m\n\u001b[0;32m----> 1\u001b[0;31m \u001b[0mt\u001b[0m\u001b[0;34m.\u001b[0m\u001b[0msort\u001b[0m\u001b[0;34m(\u001b[0m\u001b[0;34m)\u001b[0m\u001b[0;34m\u001b[0m\u001b[0;34m\u001b[0m\u001b[0m\n\u001b[0m",
      "\u001b[0;31mAttributeError\u001b[0m: 'tuple' object has no attribute 'sort'"
     ]
    }
   ],
   "source": [
    "t.sort()"
   ]
  },
  {
   "cell_type": "code",
   "execution_count": null,
   "id": "cc866bb6",
   "metadata": {},
   "outputs": [],
   "source": []
  }
 ],
 "metadata": {
  "kernelspec": {
   "display_name": "Python 3",
   "language": "python",
   "name": "python3"
  },
  "language_info": {
   "codemirror_mode": {
    "name": "ipython",
    "version": 3
   },
   "file_extension": ".py",
   "mimetype": "text/x-python",
   "name": "python",
   "nbconvert_exporter": "python",
   "pygments_lexer": "ipython3",
   "version": "3.8.10"
  }
 },
 "nbformat": 4,
 "nbformat_minor": 5
}
