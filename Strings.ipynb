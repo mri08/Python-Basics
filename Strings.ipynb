{
 "cells": [
  {
   "cell_type": "code",
   "execution_count": 3,
   "id": "ae7215e5",
   "metadata": {},
   "outputs": [
    {
     "name": "stdout",
     "output_type": "stream",
     "text": [
      "Hello\n",
      "Hello\n",
      "Hello\n"
     ]
    }
   ],
   "source": [
    "# String Creation\n",
    "\n",
    "my_string = 'Hello'\n",
    "print(my_string)\n",
    "\n",
    "my_string = \"Hello\"\n",
    "print(my_string)\n",
    "\n",
    "my_string = '''Hello'''    # used for multiline strings and docstrings\n",
    "print(my_string)"
   ]
  },
  {
   "cell_type": "code",
   "execution_count": 5,
   "id": "80dcf05c",
   "metadata": {},
   "outputs": [
    {
     "name": "stdout",
     "output_type": "stream",
     "text": [
      "H\n",
      "o\n",
      "llo\n"
     ]
    }
   ],
   "source": [
    "my_string = 'Hello'\n",
    "\n",
    "# print first character\n",
    "print(my_string[0])\n",
    "\n",
    "# print the last character\n",
    "print(my_string[-1])\n",
    "\n",
    "# slicing 2nd to 5th character\n",
    "print(my_string[2:5])"
   ]
  },
  {
   "cell_type": "markdown",
   "id": "d241cc5d",
   "metadata": {},
   "source": [
    "If we try to access index out of range or use decimal number, we will get errors"
   ]
  },
  {
   "cell_type": "code",
   "execution_count": 6,
   "id": "6fa0ed1a",
   "metadata": {},
   "outputs": [
    {
     "ename": "IndexError",
     "evalue": "string index out of range",
     "output_type": "error",
     "traceback": [
      "\u001b[0;31m---------------------------------------------------------------------------\u001b[0m",
      "\u001b[0;31mIndexError\u001b[0m                                Traceback (most recent call last)",
      "\u001b[0;32m<ipython-input-6-5e5472995651>\u001b[0m in \u001b[0;36m<module>\u001b[0;34m\u001b[0m\n\u001b[0;32m----> 1\u001b[0;31m \u001b[0mprint\u001b[0m\u001b[0;34m(\u001b[0m\u001b[0mmy_string\u001b[0m\u001b[0;34m[\u001b[0m\u001b[0;36m20\u001b[0m\u001b[0;34m]\u001b[0m\u001b[0;34m)\u001b[0m\u001b[0;34m\u001b[0m\u001b[0;34m\u001b[0m\u001b[0m\n\u001b[0m",
      "\u001b[0;31mIndexError\u001b[0m: string index out of range"
     ]
    }
   ],
   "source": [
    "print(my_string[20])"
   ]
  },
  {
   "cell_type": "code",
   "execution_count": 7,
   "id": "12a2fc84",
   "metadata": {},
   "outputs": [
    {
     "ename": "TypeError",
     "evalue": "string indices must be integers",
     "output_type": "error",
     "traceback": [
      "\u001b[0;31m---------------------------------------------------------------------------\u001b[0m",
      "\u001b[0;31mTypeError\u001b[0m                                 Traceback (most recent call last)",
      "\u001b[0;32m<ipython-input-7-a741aadd2605>\u001b[0m in \u001b[0;36m<module>\u001b[0;34m\u001b[0m\n\u001b[0;32m----> 1\u001b[0;31m \u001b[0mprint\u001b[0m\u001b[0;34m(\u001b[0m\u001b[0mmy_string\u001b[0m\u001b[0;34m[\u001b[0m\u001b[0;36m2.5\u001b[0m\u001b[0;34m]\u001b[0m\u001b[0;34m)\u001b[0m\u001b[0;34m\u001b[0m\u001b[0;34m\u001b[0m\u001b[0m\n\u001b[0m",
      "\u001b[0;31mTypeError\u001b[0m: string indices must be integers"
     ]
    }
   ],
   "source": [
    "print(my_string[2.5])"
   ]
  },
  {
   "cell_type": "markdown",
   "id": "328d8050",
   "metadata": {},
   "source": [
    "## Change or Delete a string"
   ]
  },
  {
   "cell_type": "markdown",
   "id": "d93a77a6",
   "metadata": {},
   "source": [
    "Strings are immutable. This means that elements of a string cannot be changed once it has been assigned"
   ]
  },
  {
   "cell_type": "markdown",
   "id": "1c2dc27a",
   "metadata": {},
   "source": [
    "We can simply reassign different strings to the same name."
   ]
  },
  {
   "cell_type": "code",
   "execution_count": 8,
   "id": "0c06e411",
   "metadata": {},
   "outputs": [
    {
     "ename": "TypeError",
     "evalue": "'str' object does not support item assignment",
     "output_type": "error",
     "traceback": [
      "\u001b[0;31m---------------------------------------------------------------------------\u001b[0m",
      "\u001b[0;31mTypeError\u001b[0m                                 Traceback (most recent call last)",
      "\u001b[0;32m<ipython-input-8-d328edde2bfa>\u001b[0m in \u001b[0;36m<module>\u001b[0;34m\u001b[0m\n\u001b[1;32m      1\u001b[0m \u001b[0mmy_string\u001b[0m \u001b[0;34m=\u001b[0m \u001b[0;34m'hello'\u001b[0m\u001b[0;34m\u001b[0m\u001b[0;34m\u001b[0m\u001b[0m\n\u001b[0;32m----> 2\u001b[0;31m \u001b[0mmy_string\u001b[0m\u001b[0;34m[\u001b[0m\u001b[0;36m0\u001b[0m\u001b[0;34m]\u001b[0m \u001b[0;34m=\u001b[0m \u001b[0;34m'H'\u001b[0m\u001b[0;34m\u001b[0m\u001b[0;34m\u001b[0m\u001b[0m\n\u001b[0m",
      "\u001b[0;31mTypeError\u001b[0m: 'str' object does not support item assignment"
     ]
    }
   ],
   "source": [
    "my_string = 'hello'\n",
    "my_string[0] = 'H'    # Strings are immutable"
   ]
  },
  {
   "cell_type": "markdown",
   "id": "c7242a32",
   "metadata": {},
   "source": [
    "We cannot delete or remove characters from a string, but deleting the string entirely is possible."
   ]
  },
  {
   "cell_type": "code",
   "execution_count": 9,
   "id": "220ac9ef",
   "metadata": {},
   "outputs": [
    {
     "ename": "NameError",
     "evalue": "name 'my_string' is not defined",
     "output_type": "error",
     "traceback": [
      "\u001b[0;31m---------------------------------------------------------------------------\u001b[0m",
      "\u001b[0;31mNameError\u001b[0m                                 Traceback (most recent call last)",
      "\u001b[0;32m<ipython-input-9-e13e76931ab2>\u001b[0m in \u001b[0;36m<module>\u001b[0;34m\u001b[0m\n\u001b[1;32m      1\u001b[0m \u001b[0;32mdel\u001b[0m \u001b[0mmy_string\u001b[0m\u001b[0;34m\u001b[0m\u001b[0;34m\u001b[0m\u001b[0m\n\u001b[0;32m----> 2\u001b[0;31m \u001b[0mprint\u001b[0m\u001b[0;34m(\u001b[0m\u001b[0mmy_string\u001b[0m\u001b[0;34m)\u001b[0m\u001b[0;34m\u001b[0m\u001b[0;34m\u001b[0m\u001b[0m\n\u001b[0m",
      "\u001b[0;31mNameError\u001b[0m: name 'my_string' is not defined"
     ]
    }
   ],
   "source": [
    "del my_string\n",
    "print(my_string)"
   ]
  },
  {
   "cell_type": "markdown",
   "id": "fa62d8d6",
   "metadata": {},
   "source": [
    "## String Operations"
   ]
  },
  {
   "cell_type": "code",
   "execution_count": 14,
   "id": "e80223be",
   "metadata": {},
   "outputs": [
    {
     "name": "stdout",
     "output_type": "stream",
     "text": [
      "Hello World\n",
      "Hello Hello \n"
     ]
    }
   ],
   "source": [
    "# Concatenation\n",
    "\n",
    "s1 = 'Hello '\n",
    "s2 = 'World'\n",
    "\n",
    "# Concat of 2 strings\n",
    "print(s1 + s2)\n",
    "\n",
    "#repeat string n times\n",
    "print(s1 * 2)"
   ]
  },
  {
   "cell_type": "markdown",
   "id": "c927dfea",
   "metadata": {},
   "source": [
    "Iterating through string"
   ]
  },
  {
   "cell_type": "code",
   "execution_count": 19,
   "id": "113a6e58",
   "metadata": {},
   "outputs": [
    {
     "name": "stdout",
     "output_type": "stream",
     "text": [
      "2 letters found\n"
     ]
    }
   ],
   "source": [
    "count = 0\n",
    "for i in 'Hello World':\n",
    "    if i == 'o':\n",
    "        count += 1\n",
    "print(count, 'letters found')"
   ]
  },
  {
   "cell_type": "markdown",
   "id": "2bc88f7c",
   "metadata": {},
   "source": [
    "## String Membership Test\n"
   ]
  },
  {
   "cell_type": "code",
   "execution_count": 20,
   "id": "690890ae",
   "metadata": {},
   "outputs": [
    {
     "name": "stdout",
     "output_type": "stream",
     "text": [
      "True\n"
     ]
    }
   ],
   "source": [
    "print('l' in 'Hello World')"
   ]
  },
  {
   "cell_type": "code",
   "execution_count": 21,
   "id": "d73ef7fb",
   "metadata": {},
   "outputs": [
    {
     "name": "stdout",
     "output_type": "stream",
     "text": [
      "True\n"
     ]
    }
   ],
   "source": [
    "print('or' in 'Hello World')"
   ]
  },
  {
   "cell_type": "markdown",
   "id": "feef7db3",
   "metadata": {},
   "source": [
    "## String methods"
   ]
  },
  {
   "cell_type": "code",
   "execution_count": 22,
   "id": "7371cefd",
   "metadata": {},
   "outputs": [
    {
     "data": {
      "text/plain": [
       "'hello'"
      ]
     },
     "execution_count": 22,
     "metadata": {},
     "output_type": "execute_result"
    }
   ],
   "source": [
    "'Hello'.lower()"
   ]
  },
  {
   "cell_type": "code",
   "execution_count": 23,
   "id": "66662466",
   "metadata": {},
   "outputs": [
    {
     "data": {
      "text/plain": [
       "'HELLO'"
      ]
     },
     "execution_count": 23,
     "metadata": {},
     "output_type": "execute_result"
    }
   ],
   "source": [
    "'hello'.upper()"
   ]
  },
  {
   "cell_type": "code",
   "execution_count": 24,
   "id": "e8846656",
   "metadata": {},
   "outputs": [
    {
     "data": {
      "text/plain": [
       "['This', 'will', 'split', 'all', 'the', 'words', 'in', 'a', 'list']"
      ]
     },
     "execution_count": 24,
     "metadata": {},
     "output_type": "execute_result"
    }
   ],
   "source": [
    "'This will split all the words in a list'.split()"
   ]
  },
  {
   "cell_type": "code",
   "execution_count": 25,
   "id": "7b17442a",
   "metadata": {},
   "outputs": [
    {
     "data": {
      "text/plain": [
       "'This Will join'"
      ]
     },
     "execution_count": 25,
     "metadata": {},
     "output_type": "execute_result"
    }
   ],
   "source": [
    "' '.join(['This', 'Will', 'join'])"
   ]
  },
  {
   "cell_type": "code",
   "execution_count": 26,
   "id": "632d658c",
   "metadata": {},
   "outputs": [
    {
     "data": {
      "text/plain": [
       "5"
      ]
     },
     "execution_count": 26,
     "metadata": {},
     "output_type": "execute_result"
    }
   ],
   "source": [
    "'Good Morning'.find('Mo')"
   ]
  },
  {
   "cell_type": "code",
   "execution_count": 27,
   "id": "cb1427dd",
   "metadata": {},
   "outputs": [
    {
     "name": "stdout",
     "output_type": "stream",
     "text": [
      "Bad Morning\n",
      "Good Morning\n"
     ]
    }
   ],
   "source": [
    "s1 = 'Bad Morning'\n",
    "\n",
    "s2 = s1.replace('Bad', 'Good')\n",
    "print(s1)\n",
    "print(s2)"
   ]
  },
  {
   "cell_type": "markdown",
   "id": "6d894a85",
   "metadata": {},
   "source": [
    "String Palindrome checker"
   ]
  },
  {
   "cell_type": "code",
   "execution_count": 30,
   "id": "ebf0656a",
   "metadata": {},
   "outputs": [
    {
     "name": "stdout",
     "output_type": "stream",
     "text": [
      "Given string is palindrome\n"
     ]
    }
   ],
   "source": [
    "mystr = 'Madam'\n",
    "\n",
    "mystr = mystr.lower()\n",
    "\n",
    "#reverse string\n",
    "revstr = reversed(mystr)\n",
    "\n",
    "# check if string is equal to its reverse\n",
    "if list(mystr) == list(revstr):\n",
    "    print('Given string is palindrome')\n",
    "else:\n",
    "    print('Not palindrome')\n",
    "\n"
   ]
  },
  {
   "cell_type": "markdown",
   "id": "37bed7d2",
   "metadata": {},
   "source": [
    "## Sort words in alphabetic order"
   ]
  },
  {
   "cell_type": "code",
   "execution_count": 33,
   "id": "b230d17c",
   "metadata": {},
   "outputs": [
    {
     "name": "stdout",
     "output_type": "stream",
     "text": [
      "and\n",
      "bright\n",
      "day\n",
      "sunny\n"
     ]
    }
   ],
   "source": [
    "mystr = 'bright and sunny day'\n",
    "\n",
    "words = mystr.split()\n",
    "\n",
    "# sort the list\n",
    "words.sort()\n",
    "\n",
    "# print sorted words\n",
    "for word in words:\n",
    "    print(word)"
   ]
  }
 ],
 "metadata": {
  "kernelspec": {
   "display_name": "Python 3",
   "language": "python",
   "name": "python3"
  },
  "language_info": {
   "codemirror_mode": {
    "name": "ipython",
    "version": 3
   },
   "file_extension": ".py",
   "mimetype": "text/x-python",
   "name": "python",
   "nbconvert_exporter": "python",
   "pygments_lexer": "ipython3",
   "version": "3.8.10"
  }
 },
 "nbformat": 4,
 "nbformat_minor": 5
}
