{
 "cells": [
  {
   "cell_type": "markdown",
   "id": "bdc78877",
   "metadata": {},
   "source": [
    "## Dict Creation"
   ]
  },
  {
   "cell_type": "code",
   "execution_count": 3,
   "id": "faf5d6be",
   "metadata": {},
   "outputs": [
    {
     "name": "stdout",
     "output_type": "stream",
     "text": [
      "{1: 'asd', 2: 'mno'}\n",
      "{'age': 24, 7: ['aaa', 'bbb']}\n",
      "{1: 'abc', 2: 'xyz'}\n"
     ]
    }
   ],
   "source": [
    "# empty dictionary\n",
    "\n",
    "dict_1 = {}\n",
    "dict_initial = dict()\n",
    "\n",
    "# dictionary with integer keys\n",
    "\n",
    "dict_2 = {1: 'asd', 2: 'mno'}\n",
    "print(dict_2)\n",
    "\n",
    "# dictionary with mixed keys\n",
    "\n",
    "my_dict = {'age': 24, 7: ['aaa', 'bbb']}\n",
    "print(my_dict)\n",
    "\n",
    "my_dict = dict([(1, 'abc'), (2, 'xyz')])    # creating a dict with a list of tuple\n",
    "print(my_dict)\n",
    "\n"
   ]
  },
  {
   "cell_type": "markdown",
   "id": "bcd0b854",
   "metadata": {},
   "source": [
    "## Dict Access"
   ]
  },
  {
   "cell_type": "code",
   "execution_count": 4,
   "id": "9a6658b4",
   "metadata": {},
   "outputs": [
    {
     "name": "stdout",
     "output_type": "stream",
     "text": [
      "Alex\n"
     ]
    }
   ],
   "source": [
    "my_dict = {'name': 'Alex', 'age': 55, 'address': 'Mars'}\n",
    "\n",
    "print(my_dict['name'])"
   ]
  },
  {
   "cell_type": "code",
   "execution_count": 5,
   "id": "afe3bd43",
   "metadata": {},
   "outputs": [
    {
     "ename": "KeyError",
     "evalue": "'degree'",
     "output_type": "error",
     "traceback": [
      "\u001b[0;31m---------------------------------------------------------------------------\u001b[0m",
      "\u001b[0;31mKeyError\u001b[0m                                  Traceback (most recent call last)",
      "\u001b[0;32m<ipython-input-5-b14e62939407>\u001b[0m in \u001b[0;36m<module>\u001b[0;34m\u001b[0m\n\u001b[1;32m      1\u001b[0m \u001b[0;31m# if key is not present it gives error\u001b[0m\u001b[0;34m\u001b[0m\u001b[0;34m\u001b[0m\u001b[0;34m\u001b[0m\u001b[0m\n\u001b[1;32m      2\u001b[0m \u001b[0;34m\u001b[0m\u001b[0m\n\u001b[0;32m----> 3\u001b[0;31m \u001b[0mprint\u001b[0m\u001b[0;34m(\u001b[0m\u001b[0mmy_dict\u001b[0m\u001b[0;34m[\u001b[0m\u001b[0;34m'degree'\u001b[0m\u001b[0;34m]\u001b[0m\u001b[0;34m)\u001b[0m\u001b[0;34m\u001b[0m\u001b[0;34m\u001b[0m\u001b[0m\n\u001b[0m",
      "\u001b[0;31mKeyError\u001b[0m: 'degree'"
     ]
    }
   ],
   "source": [
    "# if key is not present it gives error\n",
    "\n",
    "print(my_dict['degree'])"
   ]
  },
  {
   "cell_type": "code",
   "execution_count": 6,
   "id": "fb049b9f",
   "metadata": {},
   "outputs": [
    {
     "name": "stdout",
     "output_type": "stream",
     "text": [
      "None\n"
     ]
    }
   ],
   "source": [
    "# another way of accessing key\n",
    "\n",
    "print(my_dict.get('addres'))"
   ]
  },
  {
   "cell_type": "code",
   "execution_count": 7,
   "id": "260aeeaa",
   "metadata": {},
   "outputs": [
    {
     "name": "stdout",
     "output_type": "stream",
     "text": [
      "None\n"
     ]
    }
   ],
   "source": [
    "# if key is not present it will give none using get method\n",
    "\n",
    "print(my_dict.get('degree'))"
   ]
  },
  {
   "cell_type": "markdown",
   "id": "adaed41b",
   "metadata": {},
   "source": [
    "## Dict Add or Update Elements"
   ]
  },
  {
   "cell_type": "code",
   "execution_count": 8,
   "id": "1c7245b9",
   "metadata": {},
   "outputs": [
    {
     "name": "stdout",
     "output_type": "stream",
     "text": [
      "{'name': 'Elon', 'age': 55, 'address': 'Mars'}\n"
     ]
    }
   ],
   "source": [
    "my_dict = {'name': 'Alex', 'age': 55, 'address': 'Mars'}\n",
    "\n",
    "# update name\n",
    "\n",
    "my_dict['name'] = 'Elon'\n",
    "print(my_dict)"
   ]
  },
  {
   "cell_type": "code",
   "execution_count": 10,
   "id": "4a0b9dcc",
   "metadata": {},
   "outputs": [
    {
     "name": "stdout",
     "output_type": "stream",
     "text": [
      "{'name': 'Elon', 'age': 55, 'address': 'Mars', 'degree': 'alien_Tech'}\n"
     ]
    }
   ],
   "source": [
    "# add new key\n",
    "\n",
    "my_dict['degree'] = 'alien_Tech'\n",
    "print(my_dict)"
   ]
  },
  {
   "cell_type": "markdown",
   "id": "56d534ab",
   "metadata": {},
   "source": [
    "## Dict Delete or Remove Element"
   ]
  },
  {
   "cell_type": "code",
   "execution_count": 11,
   "id": "efbe6c4d",
   "metadata": {},
   "outputs": [
    {
     "name": "stdout",
     "output_type": "stream",
     "text": [
      "{'name': 'Elon', 'address': 'Mars', 'degree': 'alien_Tech'}\n"
     ]
    }
   ],
   "source": [
    "my_dict = {'name': 'Elon', 'age': 55, 'address': 'Mars', 'degree': 'alien_Tech'}\n",
    "\n",
    "# remove a particular item \n",
    "my_dict.pop('age')\n",
    "print(my_dict)"
   ]
  },
  {
   "cell_type": "code",
   "execution_count": 13,
   "id": "328e8018",
   "metadata": {},
   "outputs": [
    {
     "name": "stdout",
     "output_type": "stream",
     "text": [
      "{'name': 'Elon', 'address': 'Mars'}\n"
     ]
    }
   ],
   "source": [
    "my_dict = {'name': 'Elon', 'address': 'Mars', 'degree': 'alien_Tech'}\n",
    "\n",
    "# remove an arbitrary item\n",
    "my_dict.popitem()\n",
    "print(my_dict)"
   ]
  },
  {
   "cell_type": "code",
   "execution_count": 14,
   "id": "d27755b3",
   "metadata": {},
   "outputs": [
    {
     "name": "stdout",
     "output_type": "stream",
     "text": [
      "{'name': 'Elon', 'address': 'Mars'}\n"
     ]
    }
   ],
   "source": [
    "my_dict = {'name': 'Elon', 'address': 'Mars', 'degree': 'alien_Tech'}\n",
    "\n",
    "# delete particular key\n",
    "\n",
    "del my_dict['degree']\n",
    "print(my_dict)"
   ]
  },
  {
   "cell_type": "code",
   "execution_count": 15,
   "id": "010c9516",
   "metadata": {},
   "outputs": [
    {
     "name": "stdout",
     "output_type": "stream",
     "text": [
      "{}\n"
     ]
    }
   ],
   "source": [
    "# remove all items\n",
    "\n",
    "my_dict.clear()\n",
    "print(my_dict)"
   ]
  },
  {
   "cell_type": "code",
   "execution_count": 16,
   "id": "13a38f77",
   "metadata": {},
   "outputs": [
    {
     "ename": "NameError",
     "evalue": "name 'sq' is not defined",
     "output_type": "error",
     "traceback": [
      "\u001b[0;31m---------------------------------------------------------------------------\u001b[0m",
      "\u001b[0;31mNameError\u001b[0m                                 Traceback (most recent call last)",
      "\u001b[0;32m<ipython-input-16-d285617282e3>\u001b[0m in \u001b[0;36m<module>\u001b[0;34m\u001b[0m\n\u001b[1;32m      4\u001b[0m \u001b[0;34m\u001b[0m\u001b[0m\n\u001b[1;32m      5\u001b[0m \u001b[0;32mdel\u001b[0m \u001b[0msq\u001b[0m\u001b[0;34m\u001b[0m\u001b[0;34m\u001b[0m\u001b[0m\n\u001b[0;32m----> 6\u001b[0;31m \u001b[0mprint\u001b[0m\u001b[0;34m(\u001b[0m\u001b[0msq\u001b[0m\u001b[0;34m)\u001b[0m\u001b[0;34m\u001b[0m\u001b[0;34m\u001b[0m\u001b[0m\n\u001b[0m",
      "\u001b[0;31mNameError\u001b[0m: name 'sq' is not defined"
     ]
    }
   ],
   "source": [
    "sq = {2: 4, 3: 9, 4: 16, 5: 25}\n",
    "\n",
    "# delete dictionary itself\n",
    "\n",
    "del sq\n",
    "print(sq)"
   ]
  },
  {
   "cell_type": "markdown",
   "id": "4447e8c1",
   "metadata": {},
   "source": [
    "## Dictionary Methods"
   ]
  },
  {
   "cell_type": "code",
   "execution_count": 17,
   "id": "36d8a636",
   "metadata": {},
   "outputs": [
    {
     "name": "stdout",
     "output_type": "stream",
     "text": [
      "{2: 4, 3: 9, 4: 16, 5: 25}\n"
     ]
    }
   ],
   "source": [
    "sq = {2: 4, 3: 9, 4: 16, 5: 25}\n",
    "\n",
    "my_dict = sq.copy()\n",
    "print(my_dict)"
   ]
  },
  {
   "cell_type": "code",
   "execution_count": 18,
   "id": "f6d41ac8",
   "metadata": {},
   "outputs": [
    {
     "name": "stdout",
     "output_type": "stream",
     "text": [
      "{'Maths': 0, 'Physics': 0, 'CompSc': 0}\n"
     ]
    }
   ],
   "source": [
    "# fromkeys[seq[, v]]--> Return a new dictionary with keys from seq and value equal to v (defaults to none)\n",
    "\n",
    "sub = {}.fromkeys(['Maths', 'Physics', 'CompSc'], 0)\n",
    "print(sub)"
   ]
  },
  {
   "cell_type": "code",
   "execution_count": 19,
   "id": "fef64bb3",
   "metadata": {},
   "outputs": [
    {
     "name": "stdout",
     "output_type": "stream",
     "text": [
      "dict_items([(2, 4), (3, 9), (4, 16), (5, 25)])\n"
     ]
    }
   ],
   "source": [
    "sq = {2: 4, 3: 9, 4: 16, 5: 25}\n",
    "\n",
    "print(sq.items()) # returns a new view of the dictionary items (key, value)"
   ]
  },
  {
   "cell_type": "code",
   "execution_count": 21,
   "id": "5d253801",
   "metadata": {},
   "outputs": [
    {
     "name": "stdout",
     "output_type": "stream",
     "text": [
      "dict_keys([2, 3, 4, 5])\n"
     ]
    }
   ],
   "source": [
    "# View of dictionary key\n",
    "print(sq.keys())"
   ]
  },
  {
   "cell_type": "code",
   "execution_count": 20,
   "id": "8866d1ea",
   "metadata": {},
   "outputs": [
    {
     "name": "stdout",
     "output_type": "stream",
     "text": [
      "dict_values([4, 9, 16, 25])\n"
     ]
    }
   ],
   "source": [
    "# View of dictionary values\n",
    "print(sq.values())"
   ]
  },
  {
   "cell_type": "code",
   "execution_count": 22,
   "id": "a8cf7d20",
   "metadata": {},
   "outputs": [
    {
     "name": "stdout",
     "output_type": "stream",
     "text": [
      "['__class__', '__contains__', '__delattr__', '__delitem__', '__dir__', '__doc__', '__eq__', '__format__', '__ge__', '__getattribute__', '__getitem__', '__gt__', '__hash__', '__init__', '__init_subclass__', '__iter__', '__le__', '__len__', '__lt__', '__ne__', '__new__', '__reduce__', '__reduce_ex__', '__repr__', '__reversed__', '__setattr__', '__setitem__', '__sizeof__', '__str__', '__subclasshook__', 'clear', 'copy', 'fromkeys', 'get', 'items', 'keys', 'pop', 'popitem', 'setdefault', 'update', 'values']\n"
     ]
    }
   ],
   "source": [
    "# get list of all methods and attributes of dictionary\n",
    "print(dir(dict))"
   ]
  },
  {
   "cell_type": "markdown",
   "id": "f288980b",
   "metadata": {},
   "source": [
    "## Dict Comprehension"
   ]
  },
  {
   "cell_type": "code",
   "execution_count": 23,
   "id": "e49b3849",
   "metadata": {},
   "outputs": [
    {
     "name": "stdout",
     "output_type": "stream",
     "text": [
      "(1, 'a')\n",
      "(2, 'b')\n",
      "(3, 'c')\n",
      "(4, 'd')\n"
     ]
    }
   ],
   "source": [
    "d = {1: 'a', 2: 'b', 3: 'c', 4: 'd'}\n",
    "\n",
    "for pair in d.items():\n",
    "    print(pair)"
   ]
  },
  {
   "cell_type": "code",
   "execution_count": 27,
   "id": "1aa939ae",
   "metadata": {},
   "outputs": [
    {
     "name": "stdout",
     "output_type": "stream",
     "text": [
      "{3: 'c', 4: 'd'}\n"
     ]
    }
   ],
   "source": [
    "# creating a new dictionary with only pairs where the key is larger than 2\n",
    "\n",
    "d = {1: 'a', 2: 'b', 3: 'c', 4: 'd'}\n",
    "new_dict = {k:v for k, v in d.items() if k > 2}\n",
    "print(new_dict)"
   ]
  },
  {
   "cell_type": "code",
   "execution_count": 30,
   "id": "bedf192e",
   "metadata": {},
   "outputs": [
    {
     "name": "stdout",
     "output_type": "stream",
     "text": [
      "{13: 'cM', 14: 'dM'}\n"
     ]
    }
   ],
   "source": [
    "# operations of key value pairs\n",
    "\n",
    "d = {1: 'a', 2: 'b', 3: 'c', 4: 'd'}\n",
    "d = {k + 10: v + 'M' for k, v in d.items() if k >2}\n",
    "print(d)"
   ]
  }
 ],
 "metadata": {
  "kernelspec": {
   "display_name": "Python 3",
   "language": "python",
   "name": "python3"
  },
  "language_info": {
   "codemirror_mode": {
    "name": "ipython",
    "version": 3
   },
   "file_extension": ".py",
   "mimetype": "text/x-python",
   "name": "python",
   "nbconvert_exporter": "python",
   "pygments_lexer": "ipython3",
   "version": "3.8.10"
  }
 },
 "nbformat": 4,
 "nbformat_minor": 5
}
